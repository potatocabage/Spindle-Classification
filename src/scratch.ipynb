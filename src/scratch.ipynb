{
 "cells": [
  {
   "cell_type": "code",
   "execution_count": 19,
   "metadata": {},
   "outputs": [],
   "source": [
    "import mne\n",
    "import numpy as np\n",
    "import pandas as pd\n",
    "import os\n",
    "import matplotlib.pyplot as plt"
   ]
  },
  {
   "cell_type": "code",
   "execution_count": 2,
   "metadata": {},
   "outputs": [
    {
     "name": "stdout",
     "output_type": "stream",
     "text": [
      "Extracting EDF parameters from /home/lawrence/Spindle/data/Pt1/Th_proj_Pt1_spindle.edf...\n",
      "EDF file detected\n",
      "Setting channel info structure...\n",
      "Creating raw.info structure...\n",
      "<Info | 8 non-empty values\n",
      " bads: []\n",
      " ch_names: FZ, CZ, PZ, LAN1-LAN2, LAN2-LAN3, LAN3-LAN4, LHA1-LHA2, ...\n",
      " chs: 81 EEG\n",
      " custom_ref_applied: False\n",
      " highpass: 0.0 Hz\n",
      " lowpass: 1000.0 Hz\n",
      " meas_date: 2021-08-13 23:42:58 UTC\n",
      " nchan: 81\n",
      " projs: []\n",
      " sfreq: 2000.0 Hz\n",
      " subject_info: 3 items (dict)\n",
      ">\n",
      "(81, 2060000)\n"
     ]
    }
   ],
   "source": [
    "data = mne.io.read_raw_edf('/home/lawrence/Spindle/data/Pt1/Th_proj_Pt1_spindle.edf')\n",
    "raw_data = data.get_data()\n",
    "print(data.info)\n",
    "print(raw_data.shape)"
   ]
  },
  {
   "cell_type": "code",
   "execution_count": 4,
   "metadata": {},
   "outputs": [
    {
     "name": "stdout",
     "output_type": "stream",
     "text": [
      "1030.0\n"
     ]
    }
   ],
   "source": [
    "print(raw_data.shape[1]/ 2000)"
   ]
  },
  {
   "cell_type": "code",
   "execution_count": 24,
   "metadata": {},
   "outputs": [
    {
     "name": "stdout",
     "output_type": "stream",
     "text": [
      "1001\n",
      "5999\n",
      "0\n"
     ]
    }
   ],
   "source": [
    "data_dir = '/home/lawrence/Spindle/data'\n",
    "min_len = 1000000\n",
    "max_len = 0\n",
    "counter = 0\n",
    "lim = 5999\n",
    "all_window_lengths = []\n",
    "all_labels = []\n",
    "for patient in os.listdir(data_dir):\n",
    "    df = pd.read_csv(os.path.join(data_dir, patient, 'annotation.csv'))\n",
    "    window_lengths = df['end'] - df['start']\n",
    "    all_window_lengths += list(window_lengths)\n",
    "    if max_len < max(window_lengths):\n",
    "        max_len = max(window_lengths)\n",
    "    if min_len > min(window_lengths):\n",
    "        min_len = min(window_lengths)\n",
    "    counter += sum(window_lengths>lim)\n",
    "    all_labels += list(df['label'])\n",
    "\n",
    "print(min_len)\n",
    "print(max_len)\n",
    "print(counter)"
   ]
  },
  {
   "cell_type": "code",
   "execution_count": 22,
   "metadata": {},
   "outputs": [
    {
     "data": {
      "image/png": "[encoded data removed]",
      "text/plain": [
       "<Figure size 640x480 with 1 Axes>"
      ]
     },
     "metadata": {},
     "output_type": "display_data"
    }
   ],
   "source": [
    "plt.hist(all_window_lengths, bins=100)\n",
    "plt.show()"
   ]
  },
  {
   "cell_type": "code",
   "execution_count": 23,
   "metadata": {},
   "outputs": [
    {
     "name": "stdout",
     "output_type": "stream",
     "text": [
      "0.22276850239566617\n"
     ]
    }
   ],
   "source": [
    "print(sum(np.array(all_window_lengths) > 3000)/len(all_window_lengths))"
   ]
  },
  {
   "cell_type": "code",
   "execution_count": 26,
   "metadata": {},
   "outputs": [
    {
     "name": "stdout",
     "output_type": "stream",
     "text": [
      "0.16687721215018153\n"
     ]
    }
   ],
   "source": [
    "print(sum(np.array(all_labels) == 'spindle')/len(all_labels))"
   ]
  },
  {
   "cell_type": "code",
   "execution_count": 3,
   "metadata": {},
   "outputs": [
    {
     "name": "stdout",
     "output_type": "stream",
     "text": [
      "0.0\n",
      "53.77091130134934\n"
     ]
    }
   ],
   "source": [
    "sample_rate = 2000\n",
    "signal = raw_data[0]\n",
    "\n",
    "fft_result = np.fft.fft(signal)\n",
    "    \n",
    "# Calculate the frequency values for each FFT bin\n",
    "freq_values = np.fft.fftfreq(len(fft_result), 1.0 / sample_rate)\n",
    "\n",
    "# Find the peak frequency and its magnitude\n",
    "peak_magnitude = np.max(np.abs(fft_result))\n",
    "peak_frequency = np.abs(freq_values[np.argmax(np.abs(fft_result))])\n",
    "\n",
    "# Calculate the frequency range\n",
    "frequency_range = (0, sample_rate / 2)  # Nyquist frequency\n",
    "\n",
    "print(peak_frequency)\n",
    "print(peak_magnitude)"
   ]
  }
 ],
 "metadata": {
  "kernelspec": {
   "display_name": "spindle",
   "language": "python",
   "name": "python3"
  },
  "language_info": {
   "codemirror_mode": {
    "name": "ipython",
    "version": 3
   },
   "file_extension": ".py",
   "mimetype": "text/x-python",
   "name": "python",
   "nbconvert_exporter": "python",
   "pygments_lexer": "ipython3",
   "version": "3.11.5"
  }
 },
 "nbformat": 4,
 "nbformat_minor": 2
}
