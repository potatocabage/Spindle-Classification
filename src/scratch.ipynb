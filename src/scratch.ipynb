{
 "cells": [
  {
   "cell_type": "code",
   "execution_count": 1,
   "metadata": {},
   "outputs": [],
   "source": [
    "import mne\n",
    "import numpy as np"
   ]
  },
  {
   "cell_type": "code",
   "execution_count": 6,
   "metadata": {},
   "outputs": [
    {
     "name": "stdout",
     "output_type": "stream",
     "text": [
      "Extracting EDF parameters from /home/lawrence/Spindle/data/Pt1/Th_proj_Pt1_spindle.edf...\n",
      "EDF file detected\n",
      "Setting channel info structure...\n",
      "Creating raw.info structure...\n",
      "<Info | 8 non-empty values\n",
      " bads: []\n",
      " ch_names: FZ, CZ, PZ, LAN1-LAN2, LAN2-LAN3, LAN3-LAN4, LHA1-LHA2, ...\n",
      " chs: 81 EEG\n",
      " custom_ref_applied: False\n",
      " highpass: 0.0 Hz\n",
      " lowpass: 1000.0 Hz\n",
      " meas_date: 2021-08-13 23:42:58 UTC\n",
      " nchan: 81\n",
      " projs: []\n",
      " sfreq: 2000.0 Hz\n",
      " subject_info: 3 items (dict)\n",
      ">\n"
     ]
    }
   ],
   "source": [
    "data = mne.io.read_raw_edf('/home/lawrence/Spindle/data/Pt1/Th_proj_Pt1_spindle.edf')\n",
    "raw_data = data.get_data()\n",
    "print(data.info)"
   ]
  },
  {
   "cell_type": "code",
   "execution_count": 10,
   "metadata": {},
   "outputs": [
    {
     "name": "stdout",
     "output_type": "stream",
     "text": [
      "0.0\n",
      "53.77091130134934\n"
     ]
    }
   ],
   "source": [
    "sample_rate = 2000\n",
    "signal = raw_data[0]\n",
    "\n",
    "fft_result = np.fft.fft(signal)\n",
    "    \n",
    "# Calculate the frequency values for each FFT bin\n",
    "freq_values = np.fft.fftfreq(len(fft_result), 1.0 / sample_rate)\n",
    "\n",
    "# Find the peak frequency and its magnitude\n",
    "peak_magnitude = np.max(np.abs(fft_result))\n",
    "peak_frequency = np.abs(freq_values[np.argmax(np.abs(fft_result))])\n",
    "\n",
    "# Calculate the frequency range\n",
    "frequency_range = (0, sample_rate / 2)  # Nyquist frequency\n",
    "\n",
    "print(peak_frequency)\n",
    "print(peak_magnitude)"
   ]
  }
 ],
 "metadata": {
  "kernelspec": {
   "display_name": "spindle",
   "language": "python",
   "name": "python3"
  },
  "language_info": {
   "codemirror_mode": {
    "name": "ipython",
    "version": 3
   },
   "file_extension": ".py",
   "mimetype": "text/x-python",
   "name": "python",
   "nbconvert_exporter": "python",
   "pygments_lexer": "ipython3",
   "version": "3.11.5"
  }
 },
 "nbformat": 4,
 "nbformat_minor": 2
}
